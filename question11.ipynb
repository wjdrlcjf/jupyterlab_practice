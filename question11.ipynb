{
 "cells": [
  {
   "cell_type": "markdown",
   "id": "6de4744d-3123-47c0-8808-41fabd0fa34e",
   "metadata": {},
   "source": [
    "# Kichul Jake Jeong\n",
    "\"Notebook for assignment 7\""
   ]
  },
  {
   "cell_type": "code",
   "execution_count": 1,
   "id": "733625d7-f81b-4b5c-9851-fd86be514a88",
   "metadata": {},
   "outputs": [
    {
     "data": {
      "text/plain": [
       "5.0"
      ]
     },
     "execution_count": 1,
     "metadata": {},
     "output_type": "execute_result"
    }
   ],
   "source": [
    "def compute_mean (a):\n",
    "    average=sum(a)/len(a)\n",
    "    return average\n",
    "\n",
    "compute_mean([2, 4, 6, 8])"
   ]
  },
  {
   "cell_type": "markdown",
   "id": "1364de78-b2d4-4953-95cd-47c7830c5e40",
   "metadata": {},
   "source": [
    "compute_mean(a) function allows finding the average of the list provided. It calculates the sum of the list and divides by the count of numbers in the list.\n",
    "\n",
    "$ \\Huge \\bar{x} = \\frac{x_1 + x_2 + \\dots + x_n}{n} = \\frac{1}{n} \\left( \\sum\\limits_{i=1}^{n} x_i \\right)$ "
   ]
  }
 ],
 "metadata": {
  "kernelspec": {
   "display_name": "Python 3 (ipykernel)",
   "language": "python",
   "name": "python3"
  },
  "language_info": {
   "codemirror_mode": {
    "name": "ipython",
    "version": 3
   },
   "file_extension": ".py",
   "mimetype": "text/x-python",
   "name": "python",
   "nbconvert_exporter": "python",
   "pygments_lexer": "ipython3",
   "version": "3.12.3"
  }
 },
 "nbformat": 4,
 "nbformat_minor": 5
}
